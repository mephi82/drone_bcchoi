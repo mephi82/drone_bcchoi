{
 "cells": [
  {
   "cell_type": "code",
   "execution_count": 7,
   "id": "34e4cff5-9778-4ccc-9a2e-2de018ecc7fc",
   "metadata": {},
   "outputs": [],
   "source": [
    "import numpy as np\n",
    "import pandas as pd\n",
    "import copy, pickle\n",
    "from datetime import datetime\n"
   ]
  },
  {
   "cell_type": "code",
   "execution_count": 3,
   "id": "081fc898-2b6c-4a23-8a96-c84e5766210c",
   "metadata": {},
   "outputs": [],
   "source": [
    "#charginig function\n",
    "def charge(x,a,b):\n",
    "    return((a+b*x)*(x>0))"
   ]
  },
  {
   "cell_type": "code",
   "execution_count": 4,
   "id": "3c592535-65a3-4e4c-b8cb-60db4a06e5ce",
   "metadata": {},
   "outputs": [],
   "source": [
    "# #schedule: each pi_i has an ordered set of jobs(j)\n",
    "# piis = [[]]*m\n",
    "# #charging amount each x_i has an ordered set of charging times\n",
    "# xis = [[]]*m\n",
    "def random_schedule(P):\n",
    "#     #1.partition jobs into m machines, 2.sequence them, 3.assign charging times\n",
    "#     piis = [[]]*m\n",
    "#     #charging amount each x_i has an ordered set of charging times\n",
    "#     xis = [[]]*m\n",
    "    pjs = P['p']\n",
    "    Bis = P['B']\n",
    "    Bios = P['Bo']\n",
    "    n = len(pjs)\n",
    "    m = len(Bis)\n",
    "    jobs = np.random.permutation(np.arange(n))\n",
    "    partitions = [0]+sorted(np.random.choice(n, m-1))+[n]\n",
    "    piis = [jobs[partitions[i]:partitions[i+1]] for i in range(len(partitions)-1)]\n",
    "    \n",
    "    raw_xis = [np.random.normal(10,1,len(pi)) for pi in piis]\n",
    "    xis = [raw_xis[i]*max(pjs[piis[i]].sum()-Bios[i],0)/raw_xis[i].sum() for i in range(len(raw_xis))]\n",
    "    return(piis, xis)\n",
    "\n",
    "def spt_schedule(P):\n",
    "    pass\n",
    "    \n",
    "def edd_schedule(P):    \n",
    "    pass\n",
    "\n",
    "def tF1(job, pk, wk, S, B0, b):\n",
    "    return([S[0], S[1]+pk, S[2]+wk, S[3]+wk*(B0+(1+b)*(S[1]+pk)), S[4],S[5]+[job]])\n",
    "\n",
    "def tF2(job, pk, wk, S):\n",
    "    return([S[0]+pk, S[1], S[2], S[3]+wk*(S[0]+pk), S[4]+[job], S[5]])\n",
    "\n",
    "def alg1(P, straddling):\n",
    "    pjs = P['p']\n",
    "    wjs = P['w']\n",
    "    Bis = P['B']\n",
    "    Bios = P['Bo']\n",
    "    a = P['a']\n",
    "    b = P['b']\n",
    "    n = len(pjs)\n",
    "    m = len(Bis)\n",
    "    \n",
    "    sorted_jobs = np.argsort(pjs/wjs)\n",
    "    S_1 = [[0,0,0,0,[],[]]]\n",
    "    for k in range(n):\n",
    "        job = sorted_jobs[k]\n",
    "        if job==straddling:\n",
    "            continue\n",
    "        pk = pjs[job]\n",
    "        wk = wjs[job]\n",
    "        S_0 = []\n",
    "        for S in S_1:\n",
    "            S_0 = S_0 + [tF1(job, pk, wk, S, Bios[0], b)]\n",
    "            if S[0]+pk <= Bios[0]:\n",
    "                S_0 = S_0 + [tF2(job, pk, wk, S)]\n",
    "        S_1 = copy.deepcopy(S_0)\n",
    "    \n",
    "    minG = float('inf') \n",
    "    S_before = []\n",
    "    S_after = []\n",
    "    for S in S_0:\n",
    "        if S[0] <= Bios[0] and S[0]+pjs[straddling] > Bios[0]:\n",
    "            G = S[3]+wjs[straddling]*Bios[0]+(S[2]+wjs[straddling])*(1+b)*(S[0]+pjs[straddling]-Bios[0])\n",
    "            if G<minG:\n",
    "                minG = G\n",
    "                S_before = S[4]\n",
    "                S_after = S[5]\n",
    "    return(minG, S_before+[straddling]+S_after)\n",
    "        \n",
    "\n",
    "def cost_func(P, piis, xis, mode, w=None): #mode 0: completion, mode 1:binary-tardiness\n",
    "    pjs = P['p']\n",
    "    wjs = P['w']\n",
    "    djs = P['d']\n",
    "    if w is not None:\n",
    "        wjs = w\n",
    "    a = P['a']\n",
    "    b = P['b']\n",
    "    cost = 0\n",
    "    for i in range(len(piis)):\n",
    "        compl = pjs[piis[i]].cumsum()+charge(xis[i],a,b).cumsum() \n",
    "#         print(compl,djs[piis[i]])\n",
    "#         print((compl>djs[piis[i]]).sum())\n",
    "        if mode==0:\n",
    "            cost += (wjs[piis[i]]*compl).sum()\n",
    "        elif mode==1:\n",
    "            cost += (wjs[piis[i]]*(compl>djs[piis[i]])).sum()\n",
    "    return(cost)\n",
    "        \n",
    "def get_x(pi, pjs, Bo):\n",
    "    strd = np.where(pjs[pi].cumsum()>Bo)[0][0]\n",
    "#     print(pjs[pi],strd)\n",
    "#     print(pi)\n",
    "    xi = np.concatenate((np.maximum(pjs[pi].cumsum()-Bo,0)[:(strd+1)],pjs[pi][(strd+1):]))\n",
    "    return(xi)\n",
    "    \n",
    "def alg1_prime(P, straddling):\n",
    "    pjs = P['p']\n",
    "    wjs = P['w']\n",
    "    Bis = P['B']\n",
    "    Bios = P['Bo']\n",
    "    a = P['a']\n",
    "    b = P['b']\n",
    "    n = len(pjs)\n",
    "    m = len(Bis)\n",
    "    \n",
    "    sorted_jobs = np.argsort(pjs/wjs).tolist()\n",
    "    sorted_jobs.remove(straddling)\n",
    "    fringe = list(zip(*[[[x] for x in sorted_jobs],pjs[sorted_jobs]]))\n",
    "    feasibles = []\n",
    "    min_cost = float('inf')\n",
    "    schedule = ([],[])\n",
    "    while len(fringe)>0:\n",
    "        node = fringe.pop()\n",
    "        #evaluate\n",
    "        if node[1]+pjs[straddling] > Bios[0]:\n",
    "            feasibles.append(node)\n",
    "            pi = node[0]+[straddling]+[x for x in sorted_jobs if x not in node[0]]\n",
    "#             print(np.zeros(n)[pjs[pi].cumsum()<=Bios[0]])\n",
    "#             print(pjs[pi][pjs[pi].cumsum()>Bios[0]])\n",
    "#             print(pjs[pi].cumsum()<=Bios[0])\n",
    "#             xi = np.concatenate(np.zeros(n)[pjs[pi].cumsum()<=Bios[0]], pjs[pi][pjs[pi].cumsum()>Bios[0]])\n",
    "#             xi = np.concatenate((np.maximum(pjs[pi].cumsum()-Bios[0],0)[:(pi.index(straddling)+1)],pjs[pi][(pi.index(straddling)+1):]))\n",
    "            \n",
    "            xi = get_x(pi, pjs, Bios[0])\n",
    "            cost = cost_func(P, [pi], [xi], 0)\n",
    "#             print(pi,cost)\n",
    "            if cost < min_cost:\n",
    "                min_cost = cost\n",
    "                schedule = (pi,xi)\n",
    "        #expand\n",
    "        last_job = node[0][-1]\n",
    "        next_candis = sorted_jobs[(sorted_jobs.index(last_job)+1):]\n",
    "        for job in next_candis:\n",
    "            child = (node[0]+[job], node[1]+pjs[job])\n",
    "            if child[1] <= Bios[0]:#-pjs[straddling]:\n",
    "                fringe.append(child)\n",
    "\n",
    "                \n",
    "    return(min_cost, schedule)\n",
    "        \n",
    "\n",
    "def alg1_wspt(P, straddling):\n",
    "    pjs = P['p']\n",
    "    wjs = P['w']\n",
    "    Bis = P['B']\n",
    "    Bios = P['Bo']\n",
    "    a = P['a']\n",
    "    b = P['b']\n",
    "    n = len(pjs)\n",
    "    m = len(Bis)\n",
    "    \n",
    "    S_after = np.argsort(pjs/wjs).tolist()\n",
    "    S_after.remove(straddling)\n",
    "    \n",
    "    sk = 0\n",
    "    S_before = []\n",
    "    pis = []\n",
    "    while len(S_after)>0:\n",
    "#     for job in sorted_jobs:\n",
    "        if sk > Bios[0]:\n",
    "            break\n",
    "        if sk+pjs[straddling]>Bios[0]:\n",
    "            pis.append(S_before+[straddling]+S_after)\n",
    "        job = S_after.pop(0)\n",
    "        sk += pjs[job]\n",
    "        S_before.append(job)\n",
    "        \n",
    "    min_cost = float('inf')\n",
    "    schedule = ([],[])\n",
    "    \n",
    "    for pi in pis:\n",
    "        xi = get_x(pi, pjs, Bios[0])\n",
    "        cost = cost_func(P, [pi], [xi], 0)\n",
    "        print(pi, cost)\n",
    "        if cost < min_cost:\n",
    "            min_cost = cost\n",
    "            schedule = (pi,xi)\n",
    "    \n",
    "    return(min_cost, schedule)\n",
    "        \n"
   ]
  },
  {
   "cell_type": "code",
   "execution_count": 5,
   "id": "ff65c0be-544a-46e9-ba0c-def2f8ab2923",
   "metadata": {},
   "outputs": [],
   "source": [
    "def moore(P):\n",
    "    pjs = P['p']\n",
    "    wjs = P['w']\n",
    "    djs = P['d']\n",
    "    Bis = P['B']\n",
    "    Bios = P['Bo']\n",
    "    a = P['a']\n",
    "    b = P['b']\n",
    "    n = len(pjs)\n",
    "    m = len(Bis)\n",
    "    \n",
    "    sorted_jobs = np.argsort(djs).tolist()\n",
    "    pi = copy.copy(sorted_jobs)\n",
    "    xi = get_x(pi, pjs, Bios[0])\n",
    "    T = []\n",
    "    \n",
    "    compl = pjs[pi].cumsum()+charge(xi,a,b).cumsum()\n",
    "    tardiness = np.maximum(compl-djs[pi],0)\n",
    "    \n",
    "    while (tardiness>0).sum()>0:\n",
    "        print(pi, T)\n",
    "        job_a = np.where(tardiness>0)[0][0]\n",
    "        job_b = pi[np.argmax(pjs[pi][:(job_a+1)])]\n",
    "        pi.remove(job_b)\n",
    "        T.append(job_b)\n",
    "        \n",
    "        xi = get_x(pi, pjs, Bios[0])\n",
    "        compl = pjs[pi].cumsum()+charge(xi,a,b).cumsum()\n",
    "        tardiness = np.maximum(compl-djs[pi],0)\n",
    "#         print(pi, T)\n",
    "        \n",
    "\n",
    "    pi = pi + T\n",
    "    xi = get_x(pi, pjs, Bios[0])\n",
    "    compl = (pjs[pi].cumsum()+charge(xi,a,b).cumsum())\n",
    "#     print(compl)\n",
    "#     print((compl>djs[pi]).sum())\n",
    "    return(pi, xi)"
   ]
  },
  {
   "cell_type": "code",
   "execution_count": 8,
   "id": "5d44ac18-5b06-4a16-9a2c-69f61066acb5",
   "metadata": {},
   "outputs": [],
   "source": [
    "# print(pjs,djs)\n",
    "import math\n",
    "math.factorial(10)\n",
    "# import pickle\n",
    "# with open('CounterExampleOfWSPT.pickle', 'wb') as f:\n",
    "#     pickle.dump(prob, f)\n",
    "with open('CounterExampleOfWSPT.pickle', 'rb') as f:\n",
    "    prob = pickle.load(f)"
   ]
  },
  {
   "cell_type": "code",
   "execution_count": 16,
   "id": "f5a3a14e-ad78-4485-b9fc-212efb3035e4",
   "metadata": {},
   "outputs": [
    {
     "name": "stdout",
     "output_type": "stream",
     "text": [
      "wspt: [2, 0, 1, 6, 7, 5, 9, 8, 4, 3]\n",
      "edd: [4, 8, 6, 1, 3, 9, 2, 7, 5, 0]\n",
      "p: [10.35005803 10.37047726  8.63418538  9.82357209 10.02919775  8.44884115\n",
      " 10.35349699  8.43062906  9.85851905  9.17873826]\n"
     ]
    }
   ],
   "source": [
    "#Jobs: j from 0 to n, indexed by number\n",
    "def makeprob(n, m):\n",
    "#     n = 20\n",
    "    pjs = np.random.normal(10,1,n)\n",
    "    djs = np.random.normal(50,10,n)\n",
    "    wjs = np.random.rand(n)\n",
    "\n",
    "    #machines\n",
    "#     m = 1\n",
    "    Bis = n/m*np.random.normal(10,1,m)\n",
    "    Bios = Bis/3\n",
    "\n",
    "    a = 0\n",
    "    b = 1\n",
    "    prob = {'p':pjs, 'd':djs, 'w':wjs, 'B':Bis, 'Bo':Bios, 'a':a, 'b':b}\n",
    "    print('wspt:',np.argsort(pjs/wjs).tolist())\n",
    "    print('edd:',np.argsort(djs).tolist())\n",
    "    print('p:', pjs)\n",
    "    return(prob)\n",
    "n = 10\n",
    "m = 1\n",
    "prob = makeprob(n,m)\n",
    "# prob['Bo'][0]"
   ]
  },
  {
   "cell_type": "code",
   "execution_count": 17,
   "id": "be667105-7eee-4cef-a727-fd78a4282799",
   "metadata": {
    "tags": []
   },
   "outputs": [
    {
     "name": "stdout",
     "output_type": "stream",
     "text": [
      "[4, 8, 6, 1, 3, 9, 2, 7, 5, 0] []\n",
      "[4, 8, 6, 3, 9, 2, 7, 5, 0] [1]\n",
      "[4, 8, 3, 9, 2, 7, 5, 0] [1, 6]\n",
      "[8, 3, 9, 2, 7, 5, 0] [1, 6, 4]\n",
      "[3, 9, 2, 7, 5, 0] [1, 6, 4, 8]\n",
      "[3, 9, 2, 7, 5, 1, 6, 4, 8, 0] [ 0.          0.          0.          8.25316211  8.44884115 10.37047726\n",
      " 10.35349699 10.02919775  9.85851905 10.35005803]\n"
     ]
    },
    {
     "data": {
      "text/plain": [
       "array([27.81396268])"
      ]
     },
     "execution_count": 17,
     "metadata": {},
     "output_type": "execute_result"
    }
   ],
   "source": [
    "pi, xi = moore(prob)\n",
    "print(pi,xi)\n",
    "cost_func(prob, [pi], [xi], 1, np.ones(len(prob['p'])))\n",
    "prob['Bo']\n"
   ]
  },
  {
   "cell_type": "code",
   "execution_count": 96,
   "id": "9e6ab1d7-9db2-4c2a-9196-659443d7e39c",
   "metadata": {},
   "outputs": [
    {
     "name": "stdout",
     "output_type": "stream",
     "text": [
      "(322.5464845227233, [5, 1, 6, 2, 3, 4, 8, 0, 7, 9])\n",
      "0:00:00.027268\n"
     ]
    }
   ],
   "source": [
    "piis, xis = random_schedule(prob)\n",
    "t = datetime.now()\n",
    "print(alg1(prob, 2))\n",
    "print(datetime.now()-t)"
   ]
  },
  {
   "cell_type": "code",
   "execution_count": 18,
   "id": "f18dfd31-f30e-486e-9788-774152720cd8",
   "metadata": {},
   "outputs": [
    {
     "name": "stdout",
     "output_type": "stream",
     "text": [
      "(187.4856643168594, ([0, 1, 2, 6, 7, 5, 9, 8, 4, 3], array([ 0.        ,  0.        ,  1.540758  , 10.35349699,  8.43062906,\n",
      "        8.44884115,  9.17873826,  9.85851905, 10.02919775,  9.82357209])))\n",
      "0:00:00.008278\n",
      "186.15680828346262 ([2, 0, 1, 6, 7, 5, 9, 8, 4, 3], array([ 0.        ,  0.        ,  1.540758  , 10.35349699,  8.43062906,\n",
      "        8.44884115,  9.17873826,  9.85851905, 10.02919775,  9.82357209]))\n",
      "wspt: [2, 0, 1, 6, 7, 5, 9, 8, 4, 3]\n"
     ]
    }
   ],
   "source": [
    "t = datetime.now()\n",
    "print(alg1_prime(prob,2))\n",
    "print(datetime.now()-t)\n",
    "\n",
    "prob = makeprob(n,m)\n",
    "\n",
    "min_cost = float('inf')\n",
    "opt_s = []\n",
    "for j in range(len(prob['p'])):\n",
    "    cost, schedule = alg1_prime(prob,j)\n",
    "    if cost < min_cost:\n",
    "        min_cost = cost\n",
    "        opt_s = schedule\n",
    "print(min_cost,opt_s)\n",
    "\n",
    "print('wspt:',np.argsort(prob['p']/prob['w']).tolist())\n",
    "\n",
    "# pi,xi = alg1_prime(prob,1)[0]"
   ]
  },
  {
   "cell_type": "code",
   "execution_count": 439,
   "id": "24be3867-881f-49f9-a164-3fec506060e8",
   "metadata": {},
   "outputs": [
    {
     "data": {
      "text/plain": [
       "array([0.20012812, 0.54411928, 0.5977272 , 0.17779109, 0.20178515,\n",
       "       0.91350605, 0.78210979, 0.32191948, 0.64693129, 0.91130957,\n",
       "       0.023359  , 0.24007125, 0.28482923, 0.27648961, 0.2525306 ,\n",
       "       0.84474107, 0.92133821, 0.48829423, 0.68264394, 0.20434723])"
      ]
     },
     "execution_count": 439,
     "metadata": {},
     "output_type": "execute_result"
    }
   ],
   "source": [
    "pjs\n",
    "wjs"
   ]
  },
  {
   "cell_type": "code",
   "execution_count": 368,
   "id": "3ecc1a80-e132-44fe-a0d0-73d7e0b014b9",
   "metadata": {},
   "outputs": [
    {
     "name": "stdout",
     "output_type": "stream",
     "text": [
      "[3, 16, 0, 8, 1, 18, 9, 19, 2, 6, 15, 13, 14, 5, 7, 17, 12, 4, 10, 11] 992.0105130046152\n",
      "(992.0105130046152, ([3, 16, 0, 8, 1, 18, 9, 19, 2, 6, 15, 13, 14, 5, 7, 17, 12, 4, 10, 11], array([ 0.        ,  0.        ,  0.        ,  0.        ,  4.3635351 ,\n",
      "       10.01198102,  9.99029899,  9.84451154,  9.63228741,  9.14395625,\n",
      "       11.6155721 ,  9.84701961, 10.05642563, 10.70791356,  9.45587469,\n",
      "       10.74719516,  9.81307453, 10.44777235, 10.12983092,  7.85539266])))\n",
      "0:00:00.002880\n"
     ]
    }
   ],
   "source": [
    "t = datetime.now()\n",
    "print(alg1_wspt(prob,1))\n",
    "print(datetime.now()-t)"
   ]
  },
  {
   "cell_type": "code",
   "execution_count": 231,
   "id": "d4852c86-d818-47e2-a04b-62550cc84d0e",
   "metadata": {},
   "outputs": [
    {
     "data": {
      "text/plain": [
       "array([ 9.58698012, 20.05094611, 30.80500601])"
      ]
     },
     "execution_count": 231,
     "metadata": {},
     "output_type": "execute_result"
    }
   ],
   "source": [
    "pjs[[8,0,1]].cumsum()"
   ]
  },
  {
   "cell_type": "code",
   "execution_count": 222,
   "id": "b5406f32-2f5a-41b8-9d51-7f3a7693697a",
   "metadata": {},
   "outputs": [],
   "source": [
    "strad = 1\n",
    "pi = alg1(prob,strad)[1]\n",
    "xi = np.concatenate((np.maximum(pjs[pi].cumsum()-Bios[0],0)[:(pi.index(strad)+1)],pjs[pi][(pi.index(strad)+1):]))"
   ]
  },
  {
   "cell_type": "code",
   "execution_count": 223,
   "id": "2c6c3fd6-a3f8-4970-9c7c-f819dfd3a448",
   "metadata": {},
   "outputs": [
    {
     "data": {
      "text/plain": [
       "323.0870151381639"
      ]
     },
     "execution_count": 223,
     "metadata": {},
     "output_type": "execute_result"
    }
   ],
   "source": [
    "\n",
    "cost_func(prob,[pi],[xi],0)"
   ]
  },
  {
   "cell_type": "code",
   "execution_count": 230,
   "id": "5ce338cb-d0d9-4565-a6b0-fc8c69961381",
   "metadata": {},
   "outputs": [
    {
     "data": {
      "text/plain": [
       "19.146449970932434"
      ]
     },
     "execution_count": 230,
     "metadata": {},
     "output_type": "execute_result"
    }
   ],
   "source": [
    "Bios[0]-pjs[1]"
   ]
  },
  {
   "cell_type": "code",
   "execution_count": 206,
   "id": "5aaa4b1f-2cf0-45f5-9081-022d30f11eb8",
   "metadata": {},
   "outputs": [
    {
     "data": {
      "text/plain": [
       "array([  9.58698012,  20.05094611,  29.5821405 ,  50.77189093,\n",
       "        71.41797836,  90.9760396 , 112.54861405, 132.70829209,\n",
       "       154.50594569, 176.55356555])"
      ]
     },
     "execution_count": 206,
     "metadata": {},
     "output_type": "execute_result"
    }
   ],
   "source": [
    "pjs[pi].cumsum()+charge(xi,a,b).cumsum() "
   ]
  },
  {
   "cell_type": "code",
   "execution_count": 203,
   "id": "851e5212-efeb-43ea-8058-268d9c794e23",
   "metadata": {},
   "outputs": [
    {
     "data": {
      "text/plain": [
       "229.06344579020313"
      ]
     },
     "execution_count": 203,
     "metadata": {},
     "output_type": "execute_result"
    }
   ],
   "source": [
    "(wjs[pi]*pjs[pi].cumsum()).sum()"
   ]
  },
  {
   "cell_type": "code",
   "execution_count": 122,
   "id": "6e5a140d-960d-4137-a7cf-6d698a9ec4ca",
   "metadata": {},
   "outputs": [],
   "source": [
    "x=list(zip(*[[[x] for x in sorted_jobs],pjs[sorted_jobs]]))"
   ]
  },
  {
   "cell_type": "code",
   "execution_count": 270,
   "id": "dfd7ca4c-2bdd-4c61-a34b-49737b057b51",
   "metadata": {},
   "outputs": [
    {
     "data": {
      "text/plain": [
       "[7, 11, 2, 3, 9, 16, 0, 4, 1, 19, 15, 18, 12, 10, 17, 13, 14, 6, 5, 8]"
      ]
     },
     "execution_count": 270,
     "metadata": {},
     "output_type": "execute_result"
    }
   ],
   "source": [
    "np.argsort(pjs/wjs).tolist()"
   ]
  },
  {
   "cell_type": "code",
   "execution_count": 355,
   "id": "0ac5a8d3-d4e8-4be1-82db-a548e5547126",
   "metadata": {},
   "outputs": [
    {
     "data": {
      "text/plain": [
       "[16, 9, 15, 5, 6, 18, 2, 1, 8, 17, 7, 12, 13, 0, 11, 14, 4, 19, 3, 10]"
      ]
     },
     "execution_count": 355,
     "metadata": {},
     "output_type": "execute_result"
    }
   ],
   "source": [
    "sorted_jobs = np.argsort(pjs/wjs).tolist()\n",
    "# sorted_jobs.remove(straddling)\n",
    "x=sorted_jobs\n",
    "# x.remove(1)\n",
    "x"
   ]
  },
  {
   "cell_type": "code",
   "execution_count": 323,
   "id": "5c7c9283-7fec-44c3-a889-16e90d728733",
   "metadata": {},
   "outputs": [
    {
     "data": {
      "text/plain": [
       "array([ 6.94338995, 10.33064521,  8.71784087,  9.17875766, 10.96900673,\n",
       "        9.34536401,  8.95928837,  9.54723498, 11.93809886,  9.19142603,\n",
       "        9.75928587, 10.83273451,  9.93331367,  9.84329008, 10.56594293,\n",
       "        9.07181298,  9.47634918, 10.32656257,  9.58805126, 12.38021537])"
      ]
     },
     "execution_count": 323,
     "metadata": {},
     "output_type": "execute_result"
    }
   ],
   "source": [
    "pjs[sorted_jobs]"
   ]
  },
  {
   "cell_type": "code",
   "execution_count": 328,
   "id": "a12b3c2a-6115-454b-927d-d110483c3429",
   "metadata": {},
   "outputs": [
    {
     "data": {
      "text/plain": [
       "9.559670397404512"
      ]
     },
     "execution_count": 328,
     "metadata": {},
     "output_type": "execute_result"
    }
   ],
   "source": [
    "Bios[0]"
   ]
  },
  {
   "cell_type": "code",
   "execution_count": 377,
   "id": "6675392e-a4b3-481c-b5e0-8f14bada00db",
   "metadata": {},
   "outputs": [
    {
     "data": {
      "text/plain": [
       "2"
      ]
     },
     "execution_count": 377,
     "metadata": {},
     "output_type": "execute_result"
    }
   ],
   "source": [
    "x=np.array([1,2,3])\n",
    "np.where(x>1)[0][0]\n",
    "np.argmax(x)"
   ]
  },
  {
   "cell_type": "code",
   "execution_count": 378,
   "id": "3f19157e-b50b-42ce-a7dd-38dc9c2a60ee",
   "metadata": {},
   "outputs": [
    {
     "data": {
      "text/plain": [
       "array([1, 2])"
      ]
     },
     "execution_count": 378,
     "metadata": {},
     "output_type": "execute_result"
    }
   ],
   "source": [
    "x[:2]"
   ]
  },
  {
   "cell_type": "code",
   "execution_count": 381,
   "id": "a3380b8b-0bc7-410d-ac53-12c69d2dad12",
   "metadata": {},
   "outputs": [
    {
     "data": {
      "text/plain": [
       "array([0., 0., 0., 0.])"
      ]
     },
     "execution_count": 381,
     "metadata": {},
     "output_type": "execute_result"
    }
   ],
   "source": [
    "np.zeros(4)"
   ]
  },
  {
   "cell_type": "code",
   "execution_count": 382,
   "id": "cf54ac7f-2167-4d03-bcbf-64f5aef5e1f5",
   "metadata": {},
   "outputs": [
    {
     "data": {
      "text/plain": [
       "array([1, 2, 3])"
      ]
     },
     "execution_count": 382,
     "metadata": {},
     "output_type": "execute_result"
    }
   ],
   "source": [
    "x"
   ]
  },
  {
   "cell_type": "code",
   "execution_count": 393,
   "id": "ca478ce4-993f-4419-9675-d9be7e9dce89",
   "metadata": {},
   "outputs": [
    {
     "name": "stdout",
     "output_type": "stream",
     "text": [
      "[False False  True]\n"
     ]
    }
   ],
   "source": [
    "print(x>2)"
   ]
  },
  {
   "cell_type": "code",
   "execution_count": 399,
   "id": "2405a53c-7e9d-4383-ae69-4805af00e13a",
   "metadata": {},
   "outputs": [
    {
     "data": {
      "text/plain": [
       "array([0., 0.])"
      ]
     },
     "execution_count": 399,
     "metadata": {},
     "output_type": "execute_result"
    }
   ],
   "source": [
    "np.zeros(3)[pjs[[1,2,3]].cumsum()>10]"
   ]
  },
  {
   "cell_type": "code",
   "execution_count": null,
   "id": "48a65598-1854-4d83-8ca1-967be11bf71a",
   "metadata": {},
   "outputs": [],
   "source": []
  }
 ],
 "metadata": {
  "kernelspec": {
   "display_name": "Python 3",
   "language": "python",
   "name": "python3"
  },
  "language_info": {
   "codemirror_mode": {
    "name": "ipython",
    "version": 3
   },
   "file_extension": ".py",
   "mimetype": "text/x-python",
   "name": "python",
   "nbconvert_exporter": "python",
   "pygments_lexer": "ipython3",
   "version": "3.6.9"
  }
 },
 "nbformat": 4,
 "nbformat_minor": 5
}
