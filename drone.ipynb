{
 "cells": [
  {
   "cell_type": "code",
   "execution_count": 7,
   "id": "34e4cff5-9778-4ccc-9a2e-2de018ecc7fc",
   "metadata": {},
   "outputs": [],
   "source": [
    "import numpy as np\n",
    "import pandas as pd\n",
    "import copy, pickle\n",
    "from datetime import datetime\n"
   ]
  },
  {
   "cell_type": "code",
   "execution_count": 3,
   "id": "081fc898-2b6c-4a23-8a96-c84e5766210c",
   "metadata": {},
   "outputs": [],
   "source": [
    "#charginig function\n",
    "def charge(x,a,b):\n",
    "    return((a+b*x)*(x>0))"
   ]
  },
  {
   "cell_type": "code",
   "execution_count": 93,
   "id": "3c592535-65a3-4e4c-b8cb-60db4a06e5ce",
   "metadata": {},
   "outputs": [
    {
     "name": "stdout",
     "output_type": "stream",
     "text": [
      "([0, 2], 180)\n"
     ]
    }
   ],
   "source": [
    "# #schedule: each pi_i has an ordered set of jobs(j)\n",
    "# piis = [[]]*m\n",
    "# #charging amount each x_i has an ordered set of charging times\n",
    "# xis = [[]]*m\n",
    "def random_schedule(P):\n",
    "#     #1.partition jobs into m machines, 2.sequence them, 3.assign charging times\n",
    "#     piis = [[]]*m\n",
    "#     #charging amount each x_i has an ordered set of charging times\n",
    "#     xis = [[]]*m\n",
    "    pjs = P['p']\n",
    "    Bis = P['B']\n",
    "    Bios = P['Bo']\n",
    "    n = len(pjs)\n",
    "    m = len(Bis)\n",
    "    jobs = np.random.permutation(np.arange(n))\n",
    "    partitions = [0]+sorted(np.random.choice(n, m-1))+[n]\n",
    "    piis = [jobs[partitions[i]:partitions[i+1]] for i in range(len(partitions)-1)]\n",
    "    \n",
    "    raw_xis = [np.random.normal(10,1,len(pi)) for pi in piis]\n",
    "    xis = [raw_xis[i]*max(pjs[piis[i]].sum()-Bios[i],0)/raw_xis[i].sum() for i in range(len(raw_xis))]\n",
    "    return(piis, xis)\n",
    "\n",
    "def spt_schedule(P):\n",
    "    pass\n",
    "    \n",
    "def edd_schedule(P):    \n",
    "    pass\n",
    "\n",
    "def tF1(job, pk, wk, S, B0, b):\n",
    "    return([S[0], S[1]+pk, S[2]+wk, S[3]+wk*(B0+(1+b)*(S[1]+pk)), S[4],S[5]+[job]])\n",
    "\n",
    "def tF2(job, pk, wk, S):\n",
    "    return([S[0]+pk, S[1], S[2], S[3]+wk*(S[0]+pk), S[4]+[job], S[5]])\n",
    "\n",
    "def alg1(P, straddling):\n",
    "    pjs = P['p']\n",
    "    wjs = P['w']\n",
    "    Bis = P['B']\n",
    "    Bios = P['Bo']\n",
    "    a = P['a']\n",
    "    b = P['b']\n",
    "    n = len(pjs)\n",
    "    m = len(Bis)\n",
    "    \n",
    "    sorted_jobs = np.argsort(pjs/wjs)\n",
    "    S_1 = [[0,0,0,0,[],[]]]\n",
    "    for k in range(n):\n",
    "        job = sorted_jobs[k]\n",
    "        if job==straddling:\n",
    "            continue\n",
    "        pk = pjs[job]\n",
    "        wk = wjs[job]\n",
    "        S_0 = []\n",
    "        for S in S_1:\n",
    "            S_0 = S_0 + [tF1(job, pk, wk, S, Bios[0], b)]\n",
    "            if S[0]+pk <= Bios[0]:\n",
    "                S_0 = S_0 + [tF2(job, pk, wk, S)]\n",
    "        S_1 = copy.deepcopy(S_0)\n",
    "    \n",
    "    minG = float('inf') \n",
    "    S_before = []\n",
    "    S_after = []\n",
    "    for S in S_0:\n",
    "        if S[0] <= Bios[0] and S[0]+pjs[straddling] > Bios[0]:\n",
    "            G = S[3]+wjs[straddling]*Bios[0]+(S[2]+wjs[straddling])*(1+b)*(S[0]+pjs[straddling]-Bios[0])\n",
    "            if G<minG:\n",
    "                minG = G\n",
    "                S_before = S[4]\n",
    "                S_after = S[5]\n",
    "    return(minG, S_before+[straddling]+S_after)\n",
    "        \n",
    "\n",
    "def cost_func(P, piis, xis, mode, w=None): #mode 0: completion, mode 1:binary-tardiness\n",
    "    pjs = P['p']\n",
    "    wjs = P['w']\n",
    "    djs = P['d']\n",
    "    if w is not None:\n",
    "        wjs = w\n",
    "    a = P['a']\n",
    "    b = P['b']\n",
    "    cost = 0\n",
    "    for i in range(len(piis)):\n",
    "        compl = pjs[piis[i]].cumsum()+charge(xis[i],a,b).cumsum() \n",
    "#         print(compl,djs[piis[i]])\n",
    "#         print((compl>djs[piis[i]]).sum())\n",
    "        if mode==0:\n",
    "            cost += (wjs[piis[i]]*compl).sum()\n",
    "        elif mode==1:\n",
    "            cost += (wjs[piis[i]]*(compl>djs[piis[i]])).sum()\n",
    "    return(cost)\n",
    "        \n",
    "def get_x(pi, pjs, Bo):\n",
    "    strd = np.where(pjs[pi].cumsum()>Bo)[0][0]\n",
    "#     print(pjs[pi],strd)\n",
    "#     print(pi)\n",
    "    xi = np.concatenate((np.maximum(pjs[pi].cumsum()-Bo,0)[:(strd+1)],pjs[pi][(strd+1):]))\n",
    "    return(xi)\n",
    "    \n",
    "def alg1_prime(P, straddling):\n",
    "    pjs = P['p']\n",
    "    wjs = P['w']\n",
    "    Bis = P['B']\n",
    "    Bios = P['Bo']\n",
    "    a = P['a']\n",
    "    b = P['b']\n",
    "    n = len(pjs)\n",
    "    m = len(Bis)\n",
    "    \n",
    "    sorted_jobs = np.argsort(pjs/wjs).tolist()\n",
    "    sorted_jobs.remove(straddling)\n",
    "    fringe = list(zip(*[[[x] for x in sorted_jobs],pjs[sorted_jobs]]))\n",
    "    feasibles = []\n",
    "    min_cost = float('inf')\n",
    "    schedule = ([],[])\n",
    "    while len(fringe)>0:\n",
    "        node = fringe.pop()\n",
    "        #evaluate\n",
    "        if node[1]+pjs[straddling] > Bios[0]:\n",
    "            feasibles.append(node)\n",
    "            pi = node[0]+[straddling]+[x for x in sorted_jobs if x not in node[0]]\n",
    "#             print(np.zeros(n)[pjs[pi].cumsum()<=Bios[0]])\n",
    "#             print(pjs[pi][pjs[pi].cumsum()>Bios[0]])\n",
    "#             print(pjs[pi].cumsum()<=Bios[0])\n",
    "#             xi = np.concatenate(np.zeros(n)[pjs[pi].cumsum()<=Bios[0]], pjs[pi][pjs[pi].cumsum()>Bios[0]])\n",
    "#             xi = np.concatenate((np.maximum(pjs[pi].cumsum()-Bios[0],0)[:(pi.index(straddling)+1)],pjs[pi][(pi.index(straddling)+1):]))\n",
    "            \n",
    "            xi = get_x(pi, pjs, Bios[0])\n",
    "            cost = cost_func(P, [pi], [xi], 0)\n",
    "#             print(pi,cost)\n",
    "            if cost < min_cost:\n",
    "                min_cost = cost\n",
    "                schedule = (pi,xi)\n",
    "        #expand\n",
    "        last_job = node[0][-1]\n",
    "        next_candis = sorted_jobs[(sorted_jobs.index(last_job)+1):]\n",
    "        for job in next_candis:\n",
    "            child = (node[0]+[job], node[1]+pjs[job])\n",
    "            if child[1] <= Bios[0]:#-pjs[straddling]:\n",
    "                fringe.append(child)\n",
    "\n",
    "                \n",
    "    return(min_cost, schedule)\n",
    "        \n",
    "\n",
    "def alg1_wspt(P, straddling):\n",
    "    pjs = P['p']\n",
    "    wjs = P['w']\n",
    "    Bis = P['B']\n",
    "    Bios = P['Bo']\n",
    "    a = P['a']\n",
    "    b = P['b']\n",
    "    n = len(pjs)\n",
    "    m = len(Bis)\n",
    "    \n",
    "    S_after = np.argsort(pjs/wjs).tolist()\n",
    "    S_after.remove(straddling)\n",
    "    \n",
    "    sk = 0\n",
    "    S_before = []\n",
    "    pis = []\n",
    "    while len(S_after)>0:\n",
    "#     for job in sorted_jobs:\n",
    "        if sk > Bios[0]:\n",
    "            break\n",
    "        if sk+pjs[straddling]>Bios[0]:\n",
    "            pis.append(S_before+[straddling]+S_after)\n",
    "        job = S_after.pop(0)\n",
    "        sk += pjs[job]\n",
    "        S_before.append(job)\n",
    "        \n",
    "    min_cost = float('inf')\n",
    "    schedule = ([],[])\n",
    "    \n",
    "    for pi in pis:\n",
    "        xi = get_x(pi, pjs, Bios[0])\n",
    "        cost = cost_func(P, [pi], [xi], 0)\n",
    "#         print(pi, cost)\n",
    "        if cost < min_cost:\n",
    "            min_cost = cost\n",
    "            schedule = (pi,xi)\n",
    "    \n",
    "    return(min_cost, schedule)\n",
    "        \n",
    "def knapSack(W, wt, val, n):\n",
    "    K = [[0 for x in range(W + 1)] for x in range(n + 1)]\n",
    " \n",
    "    # Build table K[][] in bottom up manner\n",
    "    insack = [[[] for x in range(W+1)] for x in range(n+1)]\n",
    "    for i in range(n + 1):\n",
    "        for w in range(W + 1):\n",
    "            if i == 0 or w == 0:\n",
    "                K[i][w] = 0\n",
    "             \n",
    "            elif wt[i-1] <= w:\n",
    "                val_i_1 = val[i-1]+ K[i-1][w-wt[i-1]]\n",
    "                if val_i_1>=K[i-1][w]:\n",
    "                    K[i][w] = val_i_1\n",
    "                    insack[i][w] = insack[i-1][w-wt[i-1]]+[i-1]\n",
    "                else:\n",
    "                    K[i][w] = K[i-1][w]\n",
    "                    insack[i][w] = insack[i-1][w]\n",
    "#                 K[i][w] = max(val[i-1]\n",
    "#                           + K[i-1][w-wt[i-1]], \n",
    "#                               K[i-1][w])\n",
    "            else:\n",
    "                K[i][w] = K[i-1][w]\n",
    "                insack[i][w] = insack[i-1][w]\n",
    " \n",
    "    return (insack[n][W], K[n][W])\n",
    " \n",
    " \n",
    "# Driver code\n",
    "val = [60, 50, 120]\n",
    "wt = [10, 20, 30]\n",
    "W = 50\n",
    "n = len(val)\n",
    "print(knapSack(W, wt, val, n))\n",
    "    \n",
    "def alg1_knapsack(P, straddling):\n",
    "    pjs = P['p']\n",
    "    wjs = P['w']\n",
    "    Bis = P['B']\n",
    "    Bios = P['Bo']\n",
    "    a = P['a']\n",
    "    b = P['b']\n",
    "    n = len(pjs)\n",
    "    m = len(Bis)\n",
    "    \n",
    "    all_jobs = np.argsort(pjs/wjs).tolist()\n",
    "    all_jobs.remove(straddling)\n",
    "    insack, _ = knapSack(Bios[0], pjs, wjs, n)\n",
    "    S_before = [insack[x] for  x in np.argsort(pjs[insack]/wjs[insack]).tolist()]\n",
    "    S_after = [x for x in all_jobs if x not in insack]\n",
    "    \n",
    "    pi = S_before+[straddling]+S_after\n",
    "    xi = get_x(pi, pjs, Bios[0])\n",
    "    cost = cost_func(P, [pi], [xi], 0)\n",
    "    return(cost, (pi,xi))\n",
    "    \n",
    "    "
   ]
  },
  {
   "cell_type": "code",
   "execution_count": 5,
   "id": "ff65c0be-544a-46e9-ba0c-def2f8ab2923",
   "metadata": {},
   "outputs": [],
   "source": [
    "def moore(P):\n",
    "    pjs = P['p']\n",
    "    wjs = P['w']\n",
    "    djs = P['d']\n",
    "    Bis = P['B']\n",
    "    Bios = P['Bo']\n",
    "    a = P['a']\n",
    "    b = P['b']\n",
    "    n = len(pjs)\n",
    "    m = len(Bis)\n",
    "    \n",
    "    sorted_jobs = np.argsort(djs).tolist()\n",
    "    pi = copy.copy(sorted_jobs)\n",
    "    xi = get_x(pi, pjs, Bios[0])\n",
    "    T = []\n",
    "    \n",
    "    compl = pjs[pi].cumsum()+charge(xi,a,b).cumsum()\n",
    "    tardiness = np.maximum(compl-djs[pi],0)\n",
    "    \n",
    "    while (tardiness>0).sum()>0:\n",
    "        print(pi, T)\n",
    "        job_a = np.where(tardiness>0)[0][0]\n",
    "        job_b = pi[np.argmax(pjs[pi][:(job_a+1)])]\n",
    "        pi.remove(job_b)\n",
    "        T.append(job_b)\n",
    "        \n",
    "        xi = get_x(pi, pjs, Bios[0])\n",
    "        compl = pjs[pi].cumsum()+charge(xi,a,b).cumsum()\n",
    "        tardiness = np.maximum(compl-djs[pi],0)\n",
    "#         print(pi, T)\n",
    "        \n",
    "\n",
    "    pi = pi + T\n",
    "    xi = get_x(pi, pjs, Bios[0])\n",
    "    compl = (pjs[pi].cumsum()+charge(xi,a,b).cumsum())\n",
    "#     print(compl)\n",
    "#     print((compl>djs[pi]).sum())\n",
    "    return(pi, xi)"
   ]
  },
  {
   "cell_type": "code",
   "execution_count": 8,
   "id": "5d44ac18-5b06-4a16-9a2c-69f61066acb5",
   "metadata": {},
   "outputs": [],
   "source": [
    "# print(pjs,djs)\n",
    "import math\n",
    "math.factorial(10)\n",
    "# import pickle\n",
    "# with open('CounterExampleOfWSPT.pickle', 'wb') as f:\n",
    "#     pickle.dump(prob, f)\n",
    "with open('CounterExampleOfWSPT.pickle', 'rb') as f:\n",
    "    prob = pickle.load(f)"
   ]
  },
  {
   "cell_type": "code",
   "execution_count": 94,
   "id": "f5a3a14e-ad78-4485-b9fc-212efb3035e4",
   "metadata": {},
   "outputs": [
    {
     "name": "stdout",
     "output_type": "stream",
     "text": [
      "{'p': array([ 7,  9,  8,  9,  7, 10,  9, 12, 12, 11]), 'd': array([49, 45, 37, 63, 62, 42, 46, 64, 38, 49]), 'w': array([7, 2, 7, 5, 9, 8, 1, 2, 1, 2]), 'B': array([90.]), 'Bo': array([30]), 'a': 0, 'b': 1}\n"
     ]
    },
    {
     "data": {
      "text/plain": [
       "(1866,\n",
       " ([4, 2, 5, 1, 0, 3, 9, 7, 6, 8],\n",
       "  array([ 0,  0,  0,  4,  7,  9, 11, 12,  9, 12])))"
      ]
     },
     "execution_count": 94,
     "metadata": {},
     "output_type": "execute_result"
    }
   ],
   "source": [
    "#Jobs: j from 0 to n, indexed by number\n",
    "def makeprob(n, m):\n",
    "#     n = 20\n",
    "    pjs = np.random.normal(10,2,n).astype(int)\n",
    "    djs = np.random.normal(50,10,n).astype(int)\n",
    "    wjs = (np.random.rand(n)*10).astype(int)+1\n",
    "\n",
    "    #machines\n",
    "#     m = 1\n",
    "    Bis = n/m*np.random.normal(10,1,m).astype(int)\n",
    "    Bios = (Bis/3).astype(int)\n",
    "\n",
    "    a = 0\n",
    "    b = 1\n",
    "    prob = {'p':pjs, 'd':djs, 'w':wjs, 'B':Bis, 'Bo':Bios, 'a':a, 'b':b}\n",
    "#     print('wspt:',np.argsort(pjs/wjs).tolist())\n",
    "#     print('edd:',np.argsort(djs).tolist())\n",
    "#     print('p:', pjs)\n",
    "    return(prob)\n",
    "n = 10\n",
    "m = 1\n",
    "prob = makeprob(n,m)\n",
    "print(prob)\n",
    "alg1_knapsack(prob, 1)\n",
    "# (prob['Bo'])\n",
    "# print(np.random.normal(10,1,2))\n",
    "# prob['Bo'][0]"
   ]
  },
  {
   "cell_type": "code",
   "execution_count": 17,
   "id": "be667105-7eee-4cef-a727-fd78a4282799",
   "metadata": {
    "tags": []
   },
   "outputs": [
    {
     "name": "stdout",
     "output_type": "stream",
     "text": [
      "[4, 8, 6, 1, 3, 9, 2, 7, 5, 0] []\n",
      "[4, 8, 6, 3, 9, 2, 7, 5, 0] [1]\n",
      "[4, 8, 3, 9, 2, 7, 5, 0] [1, 6]\n",
      "[8, 3, 9, 2, 7, 5, 0] [1, 6, 4]\n",
      "[3, 9, 2, 7, 5, 0] [1, 6, 4, 8]\n",
      "[3, 9, 2, 7, 5, 1, 6, 4, 8, 0] [ 0.          0.          0.          8.25316211  8.44884115 10.37047726\n",
      " 10.35349699 10.02919775  9.85851905 10.35005803]\n"
     ]
    },
    {
     "data": {
      "text/plain": [
       "array([27.81396268])"
      ]
     },
     "execution_count": 17,
     "metadata": {},
     "output_type": "execute_result"
    }
   ],
   "source": [
    "pi, xi = moore(prob)\n",
    "print(pi,xi)\n",
    "cost_func(prob, [pi], [xi], 1, np.ones(len(prob['p'])))\n",
    "prob['Bo']\n"
   ]
  },
  {
   "cell_type": "code",
   "execution_count": 96,
   "id": "9e6ab1d7-9db2-4c2a-9196-659443d7e39c",
   "metadata": {},
   "outputs": [
    {
     "name": "stdout",
     "output_type": "stream",
     "text": [
      "(322.5464845227233, [5, 1, 6, 2, 3, 4, 8, 0, 7, 9])\n",
      "0:00:00.027268\n"
     ]
    }
   ],
   "source": [
    "piis, xis = random_schedule(prob)\n",
    "t = datetime.now()\n",
    "print(alg1(prob, 2))\n",
    "print(datetime.now()-t)"
   ]
  },
  {
   "cell_type": "code",
   "execution_count": 98,
   "id": "f18dfd31-f30e-486e-9788-774152720cd8",
   "metadata": {},
   "outputs": [
    {
     "name": "stdout",
     "output_type": "stream",
     "text": [
      "(2423, ([4, 1, 9, 7, 2, 8, 3, 6, 5, 0], array([ 0,  0,  0,  0,  7, 10,  8, 12, 10, 10])))\n",
      "0:00:00.017478\n",
      "0\n",
      "{'p': array([12,  8,  9,  9,  8, 11,  7,  9,  9, 10]), 'd': array([49, 60, 43, 59, 65, 41, 57, 63, 44, 65]), 'w': array([3, 5, 3, 4, 5, 6, 3, 1, 4, 9]), 'B': array([100.]), 'Bo': array([33]), 'a': 0, 'b': 1}\n",
      "([9, 1, 4, 5, 3, 8, 6, 2, 0, 7], array([ 0,  0,  0,  4,  9,  9,  7,  9, 12,  9])) ([9, 1, 4, 6, 5, 3, 8, 2, 0, 7], array([ 0,  0,  0,  0, 11,  9,  9,  9, 12,  9])) -22\n",
      "1\n",
      "2\n",
      "{'p': array([ 8, 13,  8, 11, 12,  9, 11, 11, 11,  9]), 'd': array([55, 54, 46, 50, 55, 53, 54, 45, 64, 40]), 'w': array([ 7,  3,  2,  7, 10,  2,  1,  6,  9,  7]), 'B': array([100.]), 'Bo': array([33]), 'a': 0, 'b': 1}\n",
      "([0, 4, 8, 9, 3, 7, 2, 1, 5, 6], array([ 0,  0,  0,  7, 11, 11,  8, 13,  9, 11])) ([4, 8, 9, 0, 3, 7, 2, 1, 5, 6], array([ 0,  0,  0,  7, 11, 11,  8, 13,  9, 11])) -16\n",
      "3\n",
      "4\n",
      "{'p': array([10,  6,  9,  8, 11,  6,  9, 12,  7, 11]), 'd': array([58, 39, 62, 45, 51, 38, 65, 45, 50, 46]), 'w': array([ 1,  2,  3,  1, 10,  7,  4,  9,  4,  8]), 'B': array([110.]), 'Bo': array([36]), 'a': 0, 'b': 1}\n",
      "([5, 4, 7, 9, 8, 6, 1, 2, 3, 0], array([ 0,  0,  0,  4,  7,  9,  6,  9,  8, 10])) ([5, 4, 7, 8, 9, 6, 1, 2, 3, 0], array([ 0,  0,  0,  0, 11,  9,  6,  9,  8, 10])) -24\n",
      "5\n",
      "{'p': array([11,  6,  7,  7, 10, 10, 10, 10, 15, 14]), 'd': array([70, 49, 38, 32, 54, 46, 56, 64, 63, 58]), 'w': array([6, 4, 8, 8, 8, 6, 5, 7, 4, 9]), 'B': array([100.]), 'Bo': array([33]), 'a': 0, 'b': 1}\n",
      "([2, 3, 4, 7, 1, 9, 5, 0, 6, 8], array([ 0,  0,  0,  1,  6, 14, 10, 11, 10, 15])) ([2, 3, 4, 1, 7, 9, 5, 0, 6, 8], array([ 0,  0,  0,  0,  7, 14, 10, 11, 10, 15])) -16\n",
      "6\n",
      "7\n",
      "8\n",
      "9\n",
      "10\n",
      "11\n",
      "12\n",
      "13\n",
      "{'p': array([ 6, 11, 11,  8,  9,  8, 13, 12, 12,  9]), 'd': array([46, 51, 37, 48, 44, 64, 49, 46, 40, 54]), 'w': array([ 5,  8,  3, 10,  8,  7,  6,  2, 10,  7]), 'B': array([120.]), 'Bo': array([40]), 'a': 0, 'b': 1}\n",
      "([3, 4, 5, 8, 0, 9, 1, 6, 2, 7], array([ 0,  0,  0,  0,  3,  9, 11, 13, 11, 12])) ([3, 4, 5, 0, 9, 8, 1, 6, 2, 7], array([ 0,  0,  0,  0,  0, 12, 11, 13, 11, 12])) -27\n",
      "14\n",
      "{'p': array([ 7, 13,  9,  9, 10,  9,  7,  8, 16, 10]), 'd': array([44, 37, 63, 36, 43, 46, 53, 48, 51, 53]), 'w': array([ 6,  8,  9,  7, 10,  2,  1,  2,  5, 10]), 'B': array([80.]), 'Bo': array([26]), 'a': 0, 'b': 1}\n",
      "([4, 9, 2, 0, 3, 1, 8, 7, 5, 6], array([ 0,  0,  3,  7,  9, 13, 16,  8,  9,  7])) ([2, 9, 0, 4, 3, 1, 8, 7, 5, 6], array([ 0,  0,  0, 10,  9, 13, 16,  8,  9,  7])) -23\n",
      "15\n",
      "{'p': array([ 9, 10, 11, 10,  9, 10, 11,  8,  9, 13]), 'd': array([51, 61, 55, 54, 53, 53, 40, 48, 39, 64]), 'w': array([ 3,  6,  5,  1,  5,  1,  6,  8, 10,  4]), 'B': array([90.]), 'Bo': array([30]), 'a': 0, 'b': 1}\n",
      "([8, 7, 1, 4, 6, 2, 0, 9, 3, 5], array([ 0,  0,  0,  6, 11, 11,  9, 13, 10, 10])) ([8, 7, 6, 1, 4, 2, 0, 9, 3, 5], array([ 0,  0,  0,  8,  9, 11,  9, 13, 10, 10])) -8\n",
      "16\n",
      "{'p': array([10, 12, 11, 11, 10,  8,  9, 11, 11, 10]), 'd': array([67, 55, 44, 45, 49, 44, 43, 46, 53, 37]), 'w': array([ 4,  9,  1,  4,  5,  8,  7, 10,  1,  3]), 'B': array([90.]), 'Bo': array([30]), 'a': 0, 'b': 1}\n",
      "([5, 7, 1, 6, 4, 0, 3, 9, 2, 8], array([ 0,  0,  1,  9, 10, 10, 11, 10, 11, 11])) ([5, 7, 6, 1, 4, 0, 3, 9, 2, 8], array([ 0,  0,  0, 10, 10, 10, 11, 10, 11, 11])) -8\n",
      "17\n",
      "{'p': array([ 7, 10,  9, 10, 10, 12, 13,  8,  6, 12]), 'd': array([43, 40, 30, 54, 59, 47, 65, 44, 49, 34]), 'w': array([ 1,  7,  2,  3,  9,  5,  6, 10,  8, 10]), 'B': array([90.]), 'Bo': array([30]), 'a': 0, 'b': 1}\n",
      "([8, 7, 4, 9, 1, 6, 5, 3, 2, 0], array([ 0,  0,  0,  6, 10, 13, 12, 10,  9,  7])) ([7, 4, 9, 8, 1, 6, 5, 3, 2, 0], array([ 0,  0,  0,  6, 10, 13, 12, 10,  9,  7])) -54\n",
      "18\n",
      "{'p': array([ 8, 11,  4, 10,  9, 10, 12, 12, 13,  7]), 'd': array([51, 53, 40, 58, 47, 52, 38, 45, 67, 20]), 'w': array([2, 3, 2, 1, 8, 6, 2, 7, 7, 4]), 'B': array([80.]), 'Bo': array([26]), 'a': 0, 'b': 1}\n",
      "([4, 7, 5, 9, 8, 2, 1, 0, 6, 3], array([ 0,  0,  5,  7, 13,  4, 11,  8, 12, 10])) ([4, 5, 9, 7, 8, 2, 1, 0, 6, 3], array([ 0,  0,  0, 12, 13,  4, 11,  8, 12, 10])) -5\n",
      "19\n",
      "20\n",
      "21\n",
      "{'p': array([ 8,  6,  9,  7,  5,  8, 12, 10, 10,  9]), 'd': array([49, 57, 42, 56, 67, 52, 47, 49, 36, 49]), 'w': array([ 9, 10,  4,  6,  2,  9,  6,  4,  3,  9]), 'B': array([90.]), 'Bo': array([30]), 'a': 0, 'b': 1}\n",
      "([1, 0, 5, 9, 3, 6, 2, 4, 7, 8], array([ 0,  0,  0,  1,  7, 12,  9,  5, 10, 10])) ([1, 5, 9, 3, 0, 6, 2, 4, 7, 8], array([ 0,  0,  0,  0,  8, 12,  9,  5, 10, 10])) -39\n",
      "22\n",
      "23\n",
      "24\n",
      "25\n",
      "26\n",
      "{'p': array([11,  8,  5,  9,  9,  9,  7, 10, 10,  8]), 'd': array([53, 35, 50, 59, 59, 41, 57, 64, 46, 32]), 'w': array([8, 2, 4, 9, 9, 9, 5, 1, 6, 3]), 'B': array([110.]), 'Bo': array([36]), 'a': 0, 'b': 1}\n",
      "([3, 4, 5, 0, 2, 6, 8, 9, 1, 7], array([ 0,  0,  0,  2,  5,  7, 10,  8,  8, 10])) ([3, 4, 5, 6, 2, 0, 8, 9, 1, 7], array([ 0,  0,  0,  0,  3, 11, 10,  8,  8, 10])) -10\n",
      "27\n",
      "28\n",
      "{'p': array([13,  8,  8, 13, 15,  9,  8,  5, 11,  9]), 'd': array([46, 56, 45, 48, 50, 64, 28, 49, 57, 57]), 'w': array([ 7,  4, 10,  6,  3,  4,  9, 10, 10,  9]), 'B': array([80.]), 'Bo': array([26]), 'a': 0, 'b': 1}\n",
      "([7, 2, 6, 9, 8, 0, 1, 3, 5, 4], array([ 0,  0,  0,  4, 11, 13,  8, 13,  9, 15])) ([7, 2, 8, 6, 9, 0, 1, 3, 5, 4], array([ 0,  0,  0,  6,  9, 13,  8, 13,  9, 15])) -31\n",
      "29\n",
      "{'p': array([10,  5,  7,  9, 11,  8, 12, 11,  9, 13]), 'd': array([34, 42, 55, 30, 64, 55, 78, 46, 52, 39]), 'w': array([ 5,  7, 10,  4,  8,  3,  3,  6,  5,  5]), 'B': array([100.]), 'Bo': array([33]), 'a': 0, 'b': 1}\n",
      "([2, 1, 4, 7, 8, 0, 3, 9, 5, 6], array([ 0,  0,  0,  1,  9, 10,  9, 13,  8, 12])) ([2, 1, 4, 8, 7, 0, 3, 9, 5, 6], array([ 0,  0,  0,  0, 10, 10,  9, 13,  8, 12])) -3\n",
      "30\n",
      "31\n",
      "{'p': array([ 9, 13, 11,  8, 10, 11, 10,  8,  9,  9]), 'd': array([60, 43, 41, 51, 49, 42, 42, 55, 48, 57]), 'w': array([ 2,  9,  1, 10,  3,  1,  5,  5,  2,  9]), 'B': array([80.]), 'Bo': array([26]), 'a': 0, 'b': 1}\n",
      "([3, 9, 1, 7, 6, 4, 0, 8, 2, 5], array([ 0,  0,  4,  8, 10, 10,  9,  9, 11, 11])) ([3, 9, 7, 1, 6, 4, 0, 8, 2, 5], array([ 0,  0,  0, 12, 10, 10,  9,  9, 11, 11])) -19\n",
      "32\n",
      "33\n",
      "{'p': array([ 9, 16,  9,  8,  8, 11,  7, 10,  9, 10]), 'd': array([52, 44, 32, 48, 49, 53, 55, 40, 62, 64]), 'w': array([10,  3,  1,  7,  5,  1,  1, 10,  8,  8]), 'B': array([90.]), 'Bo': array([30]), 'a': 0, 'b': 1}\n",
      "([0, 7, 8, 3, 9, 4, 1, 6, 2, 5], array([ 0,  0,  0,  6, 10,  8, 16,  7,  9, 11])) ([0, 7, 9, 8, 3, 4, 1, 6, 2, 5], array([ 0,  0,  0,  8,  8,  8, 16,  7,  9, 11])) -20\n",
      "34\n",
      "{'p': array([13,  9, 11,  9, 12,  9, 11,  8, 11,  6]), 'd': array([43, 52, 50, 53, 57, 67, 42, 33, 47, 51]), 'w': array([10,  8,  4,  8,  3,  2, 10,  7,  3,  4]), 'B': array([100.]), 'Bo': array([33]), 'a': 0, 'b': 1}\n",
      "([6, 1, 3, 7, 0, 9, 2, 8, 4, 5], array([ 0,  0,  0,  4, 13,  6, 11, 11, 12,  9])) ([6, 3, 0, 1, 7, 9, 2, 8, 4, 5], array([ 0,  0,  0,  9,  8,  6, 11, 11, 12,  9])) -18\n",
      "35\n",
      "{'p': array([ 7,  8, 10, 12,  4,  7,  3,  9, 11, 11]), 'd': array([70, 55, 51, 52, 40, 67, 50, 42, 42, 59]), 'w': array([6, 8, 8, 7, 5, 6, 2, 6, 1, 9]), 'B': array([80.]), 'Bo': array([26]), 'a': 0, 'b': 1}\n",
      "([4, 1, 9, 0, 5, 2, 6, 7, 3, 8], array([ 0,  0,  0,  4,  7, 10,  3,  9, 12, 11])) ([4, 1, 0, 5, 9, 2, 6, 7, 3, 8], array([ 0,  0,  0,  0, 11, 10,  3,  9, 12, 11])) -3\n",
      "36\n",
      "37\n",
      "38\n",
      "{'p': array([ 8,  8,  8,  7, 11,  7,  9, 11, 12,  7]), 'd': array([54, 75, 49, 59, 64, 33, 45, 39, 52, 45]), 'w': array([ 1,  6,  5,  2, 10,  1,  4,  6,  3,  4]), 'B': array([110.]), 'Bo': array([36]), 'a': 0, 'b': 1}\n",
      "([4, 1, 2, 7, 9, 6, 3, 8, 5, 0], array([ 0,  0,  0,  2,  7,  9,  7, 12,  7,  8])) ([4, 1, 2, 9, 7, 6, 3, 8, 5, 0], array([ 0,  0,  0,  0,  9,  9,  7, 12,  7,  8])) -4\n",
      "39\n",
      "{'p': array([ 7, 10, 12, 11, 10,  8,  9, 11,  8, 12]), 'd': array([55, 52, 37, 33, 41, 60, 54, 56, 55, 32]), 'w': array([ 4,  6,  2,  7,  8, 10,  4, 10, 10,  5]), 'B': array([80.]), 'Bo': array([26]), 'a': 0, 'b': 1}\n",
      "([5, 8, 7, 4, 3, 1, 0, 6, 9, 2], array([ 0,  0,  1, 10, 11, 10,  7,  9, 12, 12])) ([5, 8, 4, 7, 3, 1, 0, 6, 9, 2], array([ 0,  0,  0, 11, 11, 10,  7,  9, 12, 12])) -24\n",
      "40\n",
      "{'p': array([11,  9, 12,  5, 10, 12,  9, 12, 11, 11]), 'd': array([45, 49, 51, 63, 61, 62, 53, 52, 56, 41]), 'w': array([ 2,  2,  1,  3,  8, 10,  3,  3,  1,  4]), 'B': array([110.]), 'Bo': array([36]), 'a': 0, 'b': 1}\n",
      "([5, 4, 3, 9, 6, 7, 1, 0, 8, 2], array([ 0,  0,  0,  2,  9, 12,  9, 11, 11, 12])) ([5, 4, 3, 6, 9, 7, 1, 0, 8, 2], array([ 0,  0,  0,  0, 11, 12,  9, 11, 11, 12])) -6\n",
      "41\n",
      "42\n",
      "43\n",
      "44\n",
      "45\n",
      "46\n",
      "47\n",
      "48\n",
      "{'p': array([11,  8, 11,  9, 11, 11, 10, 11, 12,  8]), 'd': array([50, 54, 37, 59, 38, 54, 55, 61, 32, 54]), 'w': array([ 2,  2,  1,  2,  6, 10,  5,  8,  6,  2]), 'B': array([90.]), 'Bo': array([30]), 'a': 0, 'b': 1}\n",
      "([5, 7, 4, 6, 8, 1, 9, 3, 0, 2], array([ 0,  0,  3, 10, 12,  8,  8,  9, 11, 11])) ([5, 7, 9, 4, 6, 8, 1, 3, 0, 2], array([ 0,  0,  0, 11, 10, 12,  8,  9, 11, 11])) -140\n",
      "49\n",
      "50\n",
      "51\n",
      "52\n",
      "{'p': array([10, 11, 10,  9,  6, 12,  9, 11,  9,  3]), 'd': array([55, 57, 43, 37, 52, 49, 40, 43, 30, 33]), 'w': array([ 5,  8,  8, 10,  8,  4,  7,  5,  2,  4]), 'B': array([80.]), 'Bo': array([26]), 'a': 0, 'b': 1}\n",
      "([4, 9, 3, 2, 6, 1, 0, 7, 5, 8], array([ 0,  0,  0,  2,  9, 11, 10, 11, 12,  9])) ([4, 3, 2, 9, 6, 1, 0, 7, 5, 8], array([ 0,  0,  0,  2,  9, 11, 10, 11, 12,  9])) -14\n",
      "53\n",
      "{'p': array([ 7,  9,  8,  8,  9,  8, 12,  9, 10, 13]), 'd': array([66, 39, 42, 61, 60, 55, 48, 47, 53, 43]), 'w': array([3, 9, 2, 5, 5, 2, 1, 8, 8, 2]), 'B': array([80.]), 'Bo': array([26]), 'a': 0, 'b': 1}\n",
      "([1, 7, 8, 3, 4, 0, 2, 5, 9, 6], array([ 0,  0,  2,  8,  9,  7,  8,  8, 13, 12])) ([1, 7, 3, 8, 4, 0, 2, 5, 9, 6], array([ 0,  0,  0, 10,  9,  7,  8,  8, 13, 12])) -28\n",
      "54\n",
      "55\n",
      "56\n",
      "57\n",
      "58\n",
      "{'p': array([ 7,  9, 14,  7, 11,  7, 11,  8, 13,  8]), 'd': array([48, 38, 36, 50, 60, 63, 41, 66, 44, 34]), 'w': array([ 3,  5,  1,  4,  9,  5,  7,  9,  3, 10]), 'B': array([80.]), 'Bo': array([26]), 'a': 0, 'b': 1}\n",
      "([9, 7, 4, 5, 6, 3, 1, 0, 8, 2], array([ 0,  0,  1,  7, 11,  7,  9,  7, 13, 14])) ([9, 7, 5, 4, 6, 3, 1, 0, 8, 2], array([ 0,  0,  0,  8, 11,  7,  9,  7, 13, 14])) -31\n",
      "59\n",
      "{'p': array([16, 11, 11, 13,  8, 12, 11, 13, 12,  8]), 'd': array([72, 45, 62, 57, 46, 56, 37, 62, 57, 63]), 'w': array([ 9,  3, 10,  6,  2,  6,  9,  2,  3,  4]), 'B': array([90.]), 'Bo': array([30]), 'a': 0, 'b': 1}\n",
      "([2, 6, 0, 5, 9, 3, 1, 4, 8, 7], array([ 0,  0,  8, 12,  8, 13, 11,  8, 12, 13])) ([2, 6, 9, 0, 5, 3, 1, 4, 8, 7], array([ 0,  0,  0, 16, 12, 13, 11,  8, 12, 13])) -16\n",
      "60\n",
      "{'p': array([ 5, 11, 12, 10, 10, 11, 11,  8,  8,  9]), 'd': array([57, 44, 49, 51, 38, 49, 49, 59, 53, 59]), 'w': array([5, 5, 5, 8, 7, 3, 1, 4, 3, 8]), 'B': array([90.]), 'Bo': array([30]), 'a': 0, 'b': 1}\n",
      "([0, 9, 3, 4, 7, 1, 2, 8, 5, 6], array([ 0,  0,  0,  4,  8, 11, 12,  8, 11, 11])) ([9, 3, 4, 0, 7, 1, 2, 8, 5, 6], array([ 0,  0,  0,  4,  8, 11, 12,  8, 11, 11])) -22\n",
      "61\n",
      "62\n",
      "{'p': array([11,  9,  7, 11,  8, 11, 11,  8, 12,  9]), 'd': array([34, 62, 37, 36, 57, 38, 63, 55, 67, 35]), 'w': array([ 5,  5,  5,  9, 10,  6,  1,  4,  6,  1]), 'B': array([100.]), 'Bo': array([33]), 'a': 0, 'b': 1}\n",
      "([4, 3, 2, 1, 5, 7, 8, 0, 9, 6], array([ 0,  0,  0,  2, 11,  8, 12, 11,  9, 11])) ([4, 3, 8, 2, 1, 5, 7, 0, 9, 6], array([ 0,  0,  0,  5,  9, 11,  8, 11,  9, 11])) -37\n",
      "63\n",
      "{'p': array([11,  7,  7, 13, 10, 12,  9,  9,  7,  7]), 'd': array([52, 33, 34, 57, 43, 43, 43, 51, 44, 44]), 'w': array([ 9,  1,  7,  4,  7,  2,  3,  4,  1, 10]), 'B': array([100.]), 'Bo': array([33]), 'a': 0, 'b': 1}\n",
      "([9, 2, 0, 4, 7, 6, 3, 5, 1, 8], array([ 0,  0,  0,  2,  9,  9, 13, 12,  7,  7])) ([9, 2, 4, 7, 0, 6, 3, 5, 1, 8], array([ 0,  0,  0,  0, 11,  9, 13, 12,  7,  7])) -91\n",
      "64\n",
      "65\n",
      "66\n",
      "{'p': array([ 6,  8,  9,  9,  8,  8,  9,  4, 12,  8]), 'd': array([39, 47, 41, 54, 48, 60, 58, 35, 47, 47]), 'w': array([10,  5,  1, 10,  9,  8,  1,  2,  7,  7]), 'B': array([90.]), 'Bo': array([30]), 'a': 0, 'b': 1}\n",
      "([0, 4, 3, 5, 9, 1, 8, 7, 2, 6], array([ 0,  0,  0,  1,  8,  8, 12,  4,  9,  9])) ([0, 4, 5, 9, 3, 1, 8, 7, 2, 6], array([ 0,  0,  0,  0,  9,  8, 12,  4,  9,  9])) -44\n",
      "67\n",
      "{'p': array([10, 10, 11, 11, 13,  8,  9, 12,  9, 11]), 'd': array([56, 50, 45, 58, 67, 45, 62, 49, 46, 62]), 'w': array([ 4,  9,  2,  8,  7,  7,  6,  1, 10, 10]), 'B': array([110.]), 'Bo': array([36]), 'a': 0, 'b': 1}\n",
      "([8, 9, 1, 5, 3, 6, 4, 0, 2, 7], array([ 0,  0,  0,  2, 11,  9, 13, 10, 11, 12])) ([8, 1, 5, 6, 9, 3, 4, 0, 2, 7], array([ 0,  0,  0,  0, 11, 11, 13, 10, 11, 12])) -70\n",
      "68\n",
      "69\n",
      "{'p': array([ 8,  9, 10, 13,  9,  9, 13, 10, 10, 12]), 'd': array([50, 50, 59, 48, 55, 58, 34, 38, 31, 56]), 'w': array([ 4,  3,  5,  7,  9,  9,  9,  7,  2, 10]), 'B': array([70.]), 'Bo': array([23]), 'a': 0, 'b': 1}\n",
      "([4, 5, 9, 7, 6, 3, 0, 2, 1, 8], array([ 0,  0,  7, 10, 13, 13,  8, 10,  9, 10])) ([5, 9, 4, 7, 6, 3, 0, 2, 1, 8], array([ 0,  0,  7, 10, 13, 13,  8, 10,  9, 10])) -11\n",
      "70\n",
      "{'p': array([ 9, 10, 13, 10,  6,  9, 10, 10,  8, 11]), 'd': array([57, 31, 37, 56, 45, 33, 53, 46, 44, 30]), 'w': array([9, 5, 9, 9, 6, 9, 9, 2, 4, 4]), 'B': array([110.]), 'Bo': array([36]), 'a': 0, 'b': 1}\n",
      "([0, 4, 5, 6, 3, 2, 1, 8, 9, 7], array([ 0,  0,  0,  0,  8, 13, 10,  8, 11, 10])) ([4, 5, 3, 6, 0, 2, 1, 8, 9, 7], array([ 0,  0,  0,  0,  8, 13, 10,  8, 11, 10])) -18\n",
      "71\n",
      "72\n",
      "73\n",
      "74\n",
      "{'p': array([ 8,  9,  7, 14,  8, 11, 15,  9,  9, 12]), 'd': array([44, 33, 39, 52, 62, 53, 68, 31, 63, 46]), 'w': array([ 3,  5, 10,  4,  5,  7,  1,  2,  4,  6]), 'B': array([100.]), 'Bo': array([33]), 'a': 0, 'b': 1}\n",
      "([2, 5, 4, 1, 9, 8, 0, 3, 7, 6], array([ 0,  0,  0,  2, 12,  9,  8, 14,  9, 15])) ([2, 4, 1, 8, 5, 9, 0, 3, 7, 6], array([ 0,  0,  0,  0, 11, 12,  8, 14,  9, 15])) -63\n",
      "75\n",
      "{'p': array([ 7, 13,  8, 11,  6, 13,  8, 10,  7,  9]), 'd': array([66, 59, 53, 44, 54, 64, 53, 56, 26, 46]), 'w': array([ 7, 10,  8,  5,  9,  8,  1,  7,  4,  4]), 'B': array([100.]), 'Bo': array([33]), 'a': 0, 'b': 1}\n",
      "([4, 0, 2, 1, 7, 5, 8, 3, 9, 6], array([ 0,  0,  0,  1, 10, 13,  7, 11,  9,  8])) ([4, 0, 2, 7, 1, 5, 8, 3, 9, 6], array([ 0,  0,  0,  0, 11, 13,  7, 11,  9,  8])) -32\n",
      "76\n",
      "77\n",
      "{'p': array([10, 10,  9, 10, 12, 11,  9,  8,  5, 10]), 'd': array([51, 68, 35, 57, 42, 55, 53, 48, 51, 66]), 'w': array([ 1,  4,  1,  4,  4,  7,  5,  8,  9, 10]), 'B': array([100.]), 'Bo': array([33]), 'a': 0, 'b': 1}\n",
      "([8, 7, 9, 5, 6, 1, 3, 4, 2, 0], array([ 0,  0,  0,  1,  9, 10, 10, 12,  9, 10])) ([8, 7, 9, 6, 5, 1, 3, 4, 2, 0], array([ 0,  0,  0,  0, 10, 10, 10, 12,  9, 10])) -21\n",
      "78\n",
      "79\n",
      "80\n",
      "{'p': array([ 8,  7, 11,  7, 11, 12, 10, 12,  7,  9]), 'd': array([47, 31, 57, 37, 44, 58, 49, 72, 48, 48]), 'w': array([ 6,  5, 10, 10,  8,  5,  6,  2,  4,  8]), 'B': array([80.]), 'Bo': array([26]), 'a': 0, 'b': 1}\n",
      "([3, 2, 9, 0, 4, 1, 6, 8, 5, 7], array([ 0,  0,  1,  8, 11,  7, 10,  7, 12, 12])) ([3, 2, 0, 9, 4, 1, 6, 8, 5, 7], array([ 0,  0,  0,  9, 11,  7, 10,  7, 12, 12])) -20\n",
      "81\n",
      "{'p': array([12, 13,  7,  8,  8,  9,  7, 10,  7, 11]), 'd': array([46, 36, 54, 51, 43, 36, 64, 34, 62, 54]), 'w': array([ 4, 10,  6,  3,  6,  6,  3,  3,  4,  1]), 'B': array([100.]), 'Bo': array([33]), 'a': 0, 'b': 1}\n",
      "([2, 1, 4, 5, 8, 6, 3, 0, 7, 9], array([ 0,  0,  0,  4,  7,  7,  8, 12, 10, 11])) ([2, 4, 5, 8, 1, 6, 3, 0, 7, 9], array([ 0,  0,  0,  0, 11,  7,  8, 12, 10, 11])) -74\n",
      "82\n",
      "{'p': array([ 9,  9, 10, 11, 11,  3,  9,  9, 11, 10]), 'd': array([50, 43, 31, 61, 45, 66, 67, 50, 36, 59]), 'w': array([ 9, 10,  7,  3, 10,  9,  3,  7, 10,  7]), 'B': array([90.]), 'Bo': array([30]), 'a': 0, 'b': 1}\n",
      "([5, 1, 0, 4, 8, 7, 2, 9, 6, 3], array([ 0,  0,  0,  2, 11,  9, 10, 10,  9, 11])) ([5, 1, 0, 7, 4, 8, 2, 9, 6, 3], array([ 0,  0,  0,  0, 11, 11, 10, 10,  9, 11])) -52\n",
      "83\n",
      "84\n",
      "85\n",
      "{'p': array([ 6, 12, 10, 11, 11,  9,  9, 11, 11,  7]), 'd': array([47, 48, 45, 58, 61, 50, 54, 36, 45, 60]), 'w': array([ 3,  9,  8,  9,  3, 10,  3,  6,  1,  6]), 'B': array([100.]), 'Bo': array([33]), 'a': 0, 'b': 1}\n",
      "([5, 3, 2, 9, 1, 7, 0, 6, 4, 8], array([ 0,  0,  0,  4, 12, 11,  6,  9, 11, 11])) ([5, 9, 3, 0, 2, 1, 7, 6, 4, 8], array([ 0,  0,  0,  0, 10, 12, 11,  9, 11, 11])) -79\n",
      "86\n",
      "87\n",
      "{'p': array([15, 10, 10,  9,  7, 13,  7, 10, 10,  7]), 'd': array([54, 55, 46, 51, 36, 59, 42, 46, 50, 54]), 'w': array([ 4, 10,  2,  5,  4,  2,  7,  2,  7,  6]), 'B': array([120.]), 'Bo': array([40]), 'a': 0, 'b': 1}\n",
      "([1, 6, 9, 8, 4, 3, 0, 2, 7, 5], array([ 0,  0,  0,  0,  1,  9, 15, 10, 10, 13])) ([1, 6, 9, 4, 3, 8, 0, 2, 7, 5], array([ 0,  0,  0,  0,  0, 10, 15, 10, 10, 13])) -38\n",
      "88\n",
      "{'p': array([ 6, 11,  5, 11, 11, 10,  9, 13, 11, 11]), 'd': array([32, 49, 58, 40, 59, 59, 51, 52, 35, 25]), 'w': array([10,  5,  8,  5,  8, 10,  8, 10, 10,  2]), 'B': array([90.]), 'Bo': array([30]), 'a': 0, 'b': 1}\n",
      "([0, 2, 5, 8, 6, 7, 4, 1, 3, 9], array([ 0,  0,  0,  2,  9, 13, 11, 11, 11, 11])) ([0, 2, 5, 6, 8, 7, 4, 1, 3, 9], array([ 0,  0,  0,  0, 11, 13, 11, 11, 11, 11])) -4\n",
      "89\n",
      "{'p': array([12,  9, 13,  8, 10,  8,  5, 10, 11,  9]), 'd': array([48, 48, 49, 44, 51, 55, 59, 52, 61, 81]), 'w': array([ 8,  4,  5,  7,  4,  8,  2,  1,  9, 10]), 'B': array([100.]), 'Bo': array([33]), 'a': 0, 'b': 1}\n",
      "([9, 5, 8, 3, 0, 1, 4, 6, 2, 7], array([ 0,  0,  0,  3, 12,  9, 10,  5, 13, 10])) ([9, 5, 8, 6, 3, 0, 1, 4, 2, 7], array([ 0,  0,  0,  0,  8, 12,  9, 10, 13, 10])) -74\n",
      "90\n",
      "91\n",
      "92\n",
      "93\n",
      "94\n",
      "{'p': array([10, 14, 10,  8, 10,  9,  8, 10,  8,  8]), 'd': array([45, 34, 43, 35, 59, 68, 41, 49, 62, 71]), 'w': array([3, 6, 1, 6, 9, 7, 5, 8, 5, 5]), 'B': array([110.]), 'Bo': array([36]), 'a': 0, 'b': 1}\n",
      "([4, 7, 5, 3, 6, 8, 9, 1, 0, 2], array([ 0,  0,  0,  1,  8,  8,  8, 14, 10, 10])) ([4, 7, 3, 9, 5, 6, 8, 1, 0, 2], array([ 0,  0,  0,  0,  9,  8,  8, 14, 10, 10])) -25\n",
      "95\n",
      "{'p': array([ 7, 12, 12,  7, 11, 11, 14,  8, 12,  7]), 'd': array([47, 62, 47, 44, 42, 43, 52, 40, 34, 48]), 'w': array([7, 5, 4, 1, 2, 2, 1, 5, 5, 5]), 'B': array([100.]), 'Bo': array([33]), 'a': 0, 'b': 1}\n",
      "([0, 9, 7, 1, 8, 2, 4, 5, 3, 6], array([ 0,  0,  0,  1, 12, 12, 11, 11,  7, 14])) ([0, 9, 7, 5, 1, 8, 2, 4, 3, 6], array([ 0,  0,  0,  0, 12, 12, 12, 11,  7, 14])) -164\n",
      "96\n",
      "97\n",
      "98\n",
      "99\n",
      "{'p': array([10,  7,  9,  8, 12, 10, 10,  8, 10,  8]), 'd': array([52, 42, 38, 41, 58, 29, 46, 54, 58, 45]), 'w': array([2, 6, 5, 4, 4, 6, 7, 9, 9, 6]), 'B': array([90.]), 'Bo': array([30]), 'a': 0, 'b': 1}\n",
      "([7, 8, 1, 9, 6, 5, 2, 3, 4, 0], array([ 0,  0,  0,  3, 10, 10,  9,  8, 12, 10])) ([7, 8, 6, 1, 9, 5, 2, 3, 4, 0], array([ 0,  0,  0,  5,  8, 10,  9,  8, 12, 10])) -14\n",
      "3202 3216\n"
     ]
    },
    {
     "data": {
      "text/plain": [
       "3558"
      ]
     },
     "execution_count": 98,
     "metadata": {},
     "output_type": "execute_result"
    }
   ],
   "source": [
    "t = datetime.now()\n",
    "print(alg1_prime(prob,2))\n",
    "print(datetime.now()-t)\n",
    "\n",
    "for k in range(100):\n",
    "    print(k)\n",
    "    prob = makeprob(n,m)\n",
    "\n",
    "    min_costp = float('inf')\n",
    "    opt_sp = []\n",
    "    min_costw = float('inf')\n",
    "    opt_sw = []\n",
    "    for j in range(len(prob['p'])):\n",
    "        costp, schedulep = alg1_prime(prob,j)\n",
    "        if costp < min_costp:\n",
    "            min_costp = costp\n",
    "            opt_sp = schedulep\n",
    "            \n",
    "        costw, schedulew = alg1_knapsack(prob,j)\n",
    "        if costw < min_costw:\n",
    "            min_costw = costw\n",
    "            opt_sw = schedulew            \n",
    "#     print(min_cost,opt_s)\n",
    "#     wspt = np.argsort(prob['p']/prob['w']).tolist()\n",
    "    if opt_sp[0] != opt_sw[0]:\n",
    "        print(prob)\n",
    "        print(opt_sp, opt_sw, min_costp-min_costw)\n",
    "\n",
    "        \n",
    "schedule = random_schedule(prob)        \n",
    "pi = schedule[0][0]\n",
    "print(min_costp, min_costw)\n",
    "cost_func(prob, [pi], [get_x(schedule[0][0], prob['p'], prob['Bo'])], 0, w=None)\n",
    "# prob['Bo']\n",
    "# pi,xi = alg1_prime(prob,1)[0]"
   ]
  },
  {
   "cell_type": "code",
   "execution_count": 25,
   "id": "24be3867-881f-49f9-a164-3fec506060e8",
   "metadata": {},
   "outputs": [
    {
     "data": {
      "text/plain": [
       "False"
      ]
     },
     "execution_count": 25,
     "metadata": {},
     "output_type": "execute_result"
    }
   ],
   "source": [
    "a=[1,2,3]\n",
    "b=[1,2,3]\n",
    "a != b"
   ]
  },
  {
   "cell_type": "code",
   "execution_count": 368,
   "id": "3ecc1a80-e132-44fe-a0d0-73d7e0b014b9",
   "metadata": {},
   "outputs": [
    {
     "name": "stdout",
     "output_type": "stream",
     "text": [
      "[3, 16, 0, 8, 1, 18, 9, 19, 2, 6, 15, 13, 14, 5, 7, 17, 12, 4, 10, 11] 992.0105130046152\n",
      "(992.0105130046152, ([3, 16, 0, 8, 1, 18, 9, 19, 2, 6, 15, 13, 14, 5, 7, 17, 12, 4, 10, 11], array([ 0.        ,  0.        ,  0.        ,  0.        ,  4.3635351 ,\n",
      "       10.01198102,  9.99029899,  9.84451154,  9.63228741,  9.14395625,\n",
      "       11.6155721 ,  9.84701961, 10.05642563, 10.70791356,  9.45587469,\n",
      "       10.74719516,  9.81307453, 10.44777235, 10.12983092,  7.85539266])))\n",
      "0:00:00.002880\n"
     ]
    }
   ],
   "source": [
    "t = datetime.now()\n",
    "print(alg1_wspt(prob,1))\n",
    "print(datetime.now()-t)"
   ]
  },
  {
   "cell_type": "code",
   "execution_count": 231,
   "id": "d4852c86-d818-47e2-a04b-62550cc84d0e",
   "metadata": {},
   "outputs": [
    {
     "data": {
      "text/plain": [
       "array([ 9.58698012, 20.05094611, 30.80500601])"
      ]
     },
     "execution_count": 231,
     "metadata": {},
     "output_type": "execute_result"
    }
   ],
   "source": [
    "pjs[[8,0,1]].cumsum()"
   ]
  },
  {
   "cell_type": "code",
   "execution_count": 222,
   "id": "b5406f32-2f5a-41b8-9d51-7f3a7693697a",
   "metadata": {},
   "outputs": [],
   "source": [
    "strad = 1\n",
    "pi = alg1(prob,strad)[1]\n",
    "xi = np.concatenate((np.maximum(pjs[pi].cumsum()-Bios[0],0)[:(pi.index(strad)+1)],pjs[pi][(pi.index(strad)+1):]))"
   ]
  },
  {
   "cell_type": "code",
   "execution_count": 223,
   "id": "2c6c3fd6-a3f8-4970-9c7c-f819dfd3a448",
   "metadata": {},
   "outputs": [
    {
     "data": {
      "text/plain": [
       "323.0870151381639"
      ]
     },
     "execution_count": 223,
     "metadata": {},
     "output_type": "execute_result"
    }
   ],
   "source": [
    "\n",
    "cost_func(prob,[pi],[xi],0)"
   ]
  },
  {
   "cell_type": "code",
   "execution_count": 230,
   "id": "5ce338cb-d0d9-4565-a6b0-fc8c69961381",
   "metadata": {},
   "outputs": [
    {
     "data": {
      "text/plain": [
       "19.146449970932434"
      ]
     },
     "execution_count": 230,
     "metadata": {},
     "output_type": "execute_result"
    }
   ],
   "source": [
    "Bios[0]-pjs[1]"
   ]
  },
  {
   "cell_type": "code",
   "execution_count": 206,
   "id": "5aaa4b1f-2cf0-45f5-9081-022d30f11eb8",
   "metadata": {},
   "outputs": [
    {
     "data": {
      "text/plain": [
       "array([  9.58698012,  20.05094611,  29.5821405 ,  50.77189093,\n",
       "        71.41797836,  90.9760396 , 112.54861405, 132.70829209,\n",
       "       154.50594569, 176.55356555])"
      ]
     },
     "execution_count": 206,
     "metadata": {},
     "output_type": "execute_result"
    }
   ],
   "source": [
    "pjs[pi].cumsum()+charge(xi,a,b).cumsum() "
   ]
  },
  {
   "cell_type": "code",
   "execution_count": 203,
   "id": "851e5212-efeb-43ea-8058-268d9c794e23",
   "metadata": {},
   "outputs": [
    {
     "data": {
      "text/plain": [
       "229.06344579020313"
      ]
     },
     "execution_count": 203,
     "metadata": {},
     "output_type": "execute_result"
    }
   ],
   "source": [
    "(wjs[pi]*pjs[pi].cumsum()).sum()"
   ]
  },
  {
   "cell_type": "code",
   "execution_count": 122,
   "id": "6e5a140d-960d-4137-a7cf-6d698a9ec4ca",
   "metadata": {},
   "outputs": [],
   "source": [
    "x=list(zip(*[[[x] for x in sorted_jobs],pjs[sorted_jobs]]))"
   ]
  },
  {
   "cell_type": "code",
   "execution_count": 270,
   "id": "dfd7ca4c-2bdd-4c61-a34b-49737b057b51",
   "metadata": {},
   "outputs": [
    {
     "data": {
      "text/plain": [
       "[7, 11, 2, 3, 9, 16, 0, 4, 1, 19, 15, 18, 12, 10, 17, 13, 14, 6, 5, 8]"
      ]
     },
     "execution_count": 270,
     "metadata": {},
     "output_type": "execute_result"
    }
   ],
   "source": [
    "np.argsort(pjs/wjs).tolist()"
   ]
  },
  {
   "cell_type": "code",
   "execution_count": 355,
   "id": "0ac5a8d3-d4e8-4be1-82db-a548e5547126",
   "metadata": {},
   "outputs": [
    {
     "data": {
      "text/plain": [
       "[16, 9, 15, 5, 6, 18, 2, 1, 8, 17, 7, 12, 13, 0, 11, 14, 4, 19, 3, 10]"
      ]
     },
     "execution_count": 355,
     "metadata": {},
     "output_type": "execute_result"
    }
   ],
   "source": [
    "sorted_jobs = np.argsort(pjs/wjs).tolist()\n",
    "# sorted_jobs.remove(straddling)\n",
    "x=sorted_jobs\n",
    "# x.remove(1)\n",
    "x"
   ]
  },
  {
   "cell_type": "code",
   "execution_count": 323,
   "id": "5c7c9283-7fec-44c3-a889-16e90d728733",
   "metadata": {},
   "outputs": [
    {
     "data": {
      "text/plain": [
       "array([ 6.94338995, 10.33064521,  8.71784087,  9.17875766, 10.96900673,\n",
       "        9.34536401,  8.95928837,  9.54723498, 11.93809886,  9.19142603,\n",
       "        9.75928587, 10.83273451,  9.93331367,  9.84329008, 10.56594293,\n",
       "        9.07181298,  9.47634918, 10.32656257,  9.58805126, 12.38021537])"
      ]
     },
     "execution_count": 323,
     "metadata": {},
     "output_type": "execute_result"
    }
   ],
   "source": [
    "pjs[sorted_jobs]"
   ]
  },
  {
   "cell_type": "code",
   "execution_count": 328,
   "id": "a12b3c2a-6115-454b-927d-d110483c3429",
   "metadata": {},
   "outputs": [
    {
     "data": {
      "text/plain": [
       "9.559670397404512"
      ]
     },
     "execution_count": 328,
     "metadata": {},
     "output_type": "execute_result"
    }
   ],
   "source": [
    "Bios[0]"
   ]
  },
  {
   "cell_type": "code",
   "execution_count": 377,
   "id": "6675392e-a4b3-481c-b5e0-8f14bada00db",
   "metadata": {},
   "outputs": [
    {
     "data": {
      "text/plain": [
       "2"
      ]
     },
     "execution_count": 377,
     "metadata": {},
     "output_type": "execute_result"
    }
   ],
   "source": [
    "x=np.array([1,2,3])\n",
    "np.where(x>1)[0][0]\n",
    "np.argmax(x)"
   ]
  },
  {
   "cell_type": "code",
   "execution_count": 378,
   "id": "3f19157e-b50b-42ce-a7dd-38dc9c2a60ee",
   "metadata": {},
   "outputs": [
    {
     "data": {
      "text/plain": [
       "array([1, 2])"
      ]
     },
     "execution_count": 378,
     "metadata": {},
     "output_type": "execute_result"
    }
   ],
   "source": [
    "x[:2]"
   ]
  },
  {
   "cell_type": "code",
   "execution_count": 381,
   "id": "a3380b8b-0bc7-410d-ac53-12c69d2dad12",
   "metadata": {},
   "outputs": [
    {
     "data": {
      "text/plain": [
       "array([0., 0., 0., 0.])"
      ]
     },
     "execution_count": 381,
     "metadata": {},
     "output_type": "execute_result"
    }
   ],
   "source": [
    "np.zeros(4)"
   ]
  },
  {
   "cell_type": "code",
   "execution_count": 382,
   "id": "cf54ac7f-2167-4d03-bcbf-64f5aef5e1f5",
   "metadata": {},
   "outputs": [
    {
     "data": {
      "text/plain": [
       "array([1, 2, 3])"
      ]
     },
     "execution_count": 382,
     "metadata": {},
     "output_type": "execute_result"
    }
   ],
   "source": [
    "x"
   ]
  },
  {
   "cell_type": "code",
   "execution_count": 393,
   "id": "ca478ce4-993f-4419-9675-d9be7e9dce89",
   "metadata": {},
   "outputs": [
    {
     "name": "stdout",
     "output_type": "stream",
     "text": [
      "[False False  True]\n"
     ]
    }
   ],
   "source": [
    "print(x>2)"
   ]
  },
  {
   "cell_type": "code",
   "execution_count": 399,
   "id": "2405a53c-7e9d-4383-ae69-4805af00e13a",
   "metadata": {},
   "outputs": [
    {
     "data": {
      "text/plain": [
       "array([0., 0.])"
      ]
     },
     "execution_count": 399,
     "metadata": {},
     "output_type": "execute_result"
    }
   ],
   "source": [
    "np.zeros(3)[pjs[[1,2,3]].cumsum()>10]"
   ]
  },
  {
   "cell_type": "code",
   "execution_count": null,
   "id": "48a65598-1854-4d83-8ca1-967be11bf71a",
   "metadata": {},
   "outputs": [],
   "source": []
  }
 ],
 "metadata": {
  "kernelspec": {
   "display_name": "Python 3",
   "language": "python",
   "name": "python3"
  },
  "language_info": {
   "codemirror_mode": {
    "name": "ipython",
    "version": 3
   },
   "file_extension": ".py",
   "mimetype": "text/x-python",
   "name": "python",
   "nbconvert_exporter": "python",
   "pygments_lexer": "ipython3",
   "version": "3.6.9"
  }
 },
 "nbformat": 4,
 "nbformat_minor": 5
}
